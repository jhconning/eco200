{
 "cells": [
  {
   "cell_type": "markdown",
   "metadata": {},
   "source": [
    "Write your post here."
   ]
  }
 ],
 "metadata": {
  "kernelspec": {
   "display_name": "Python 3",
   "env": {},
   "language": "python",
   "name": "python3"
  },
  "nikola": {
   "category": "",
   "date": "2018-02-06 08:46:08 UTC-05:00",
   "description": "",
   "link": "",
   "slug": "eco-200-section-2-principles-of-microeconomics-at-hunter",
   "tags": "",
   "title": "Eco 200 Section 2 Principles of Microeconomics at Hunter",
   "type": "text"
  }
 },
 "nbformat": 4,
 "nbformat_minor": 0
}